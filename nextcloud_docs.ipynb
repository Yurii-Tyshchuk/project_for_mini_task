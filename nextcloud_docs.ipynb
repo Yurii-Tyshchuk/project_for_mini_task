{
 "cells": [
  {
   "cell_type": "markdown",
   "source": [
    "## Imports"
   ],
   "metadata": {
    "collapsed": false
   }
  },
  {
   "cell_type": "code",
   "execution_count": 18,
   "outputs": [],
   "source": [
    "import importlib\n",
    "import io\n",
    "import os\n",
    "import shutil\n",
    "import zipfile\n",
    "from pathlib import Path\n",
    "from typing import List\n",
    "\n",
    "import requests\n",
    "\n",
    "import java_parser"
   ],
   "metadata": {
    "collapsed": false
   }
  },
  {
   "cell_type": "markdown",
   "source": [
    "## Params"
   ],
   "metadata": {
    "collapsed": false
   }
  },
  {
   "cell_type": "code",
   "execution_count": 19,
   "outputs": [],
   "source": [
    "cloud_url = 'https://cloud.nemosoft.ru/s/fHLGN6ytDB3ziM4/download'\n",
    "root_path = './docs2'"
   ],
   "metadata": {
    "collapsed": false
   }
  },
  {
   "cell_type": "markdown",
   "source": [
    "## Download from Nextcloud"
   ],
   "metadata": {
    "collapsed": false
   }
  },
  {
   "cell_type": "code",
   "execution_count": 20,
   "metadata": {
    "collapsed": true
   },
   "outputs": [
    {
     "data": {
      "text/plain": "200"
     },
     "execution_count": 20,
     "metadata": {},
     "output_type": "execute_result"
    }
   ],
   "source": [
    "response = requests.get(cloud_url, stream=True)\n",
    "response.status_code"
   ]
  },
  {
   "cell_type": "markdown",
   "source": [
    "## Reading"
   ],
   "metadata": {
    "collapsed": false
   }
  },
  {
   "cell_type": "code",
   "execution_count": 21,
   "outputs": [],
   "source": [
    "zip_file = zipfile.ZipFile(io.BytesIO(response.content))"
   ],
   "metadata": {
    "collapsed": false
   }
  },
  {
   "cell_type": "markdown",
   "source": [
    "### File filtering"
   ],
   "metadata": {
    "collapsed": false
   }
  },
  {
   "cell_type": "code",
   "execution_count": 22,
   "outputs": [],
   "source": [
    "file_name_list: List[str] = [\n",
    "    path for path in zip_file.namelist()\n",
    "    if str(path).lower().endswith('.docx') or str(path).lower().endswith('.doc')\n",
    "]"
   ],
   "metadata": {
    "collapsed": false
   }
  },
  {
   "cell_type": "code",
   "execution_count": 23,
   "outputs": [],
   "source": [
    "folder_name_list: List[str] = [\n",
    "    path for path in zip_file.namelist()\n",
    "    if str(path).lower().endswith('/')\n",
    "]"
   ],
   "metadata": {
    "collapsed": false
   }
  },
  {
   "cell_type": "markdown",
   "source": [
    "## Parsing"
   ],
   "metadata": {
    "collapsed": false
   }
  },
  {
   "cell_type": "code",
   "execution_count": 24,
   "outputs": [
    {
     "name": "stdout",
     "output_type": "stream",
     "text": [
      "Парсер уже запущен\n"
     ]
    }
   ],
   "source": [
    "importlib.reload(java_parser)\n",
    "is_running = java_parser.check_if_parser_is_running()"
   ],
   "metadata": {
    "collapsed": false
   }
  },
  {
   "cell_type": "code",
   "execution_count": 25,
   "outputs": [],
   "source": [
    "if is_running:\n",
    "    try:\n",
    "        shutil.rmtree(root_path)\n",
    "    except OSError:\n",
    "        pass\n",
    "    os.mkdir(root_path)\n",
    "\n",
    "    for path in folder_name_list:\n",
    "        Path(root_path + '/' + path).mkdir(parents=True, exist_ok=True)\n",
    "\n",
    "    for name in file_name_list:\n",
    "        try:\n",
    "            list_of_docs = document = java_parser.send_document(\n",
    "                zip_file.read(name),\n",
    "                'DOC' if name.lower().endswith('doc') else 'DOCX'\n",
    "            )\n",
    "            for index, doc in enumerate(list_of_docs, start=1):\n",
    "                final_text = ''\n",
    "                for paragraph in doc['paragraphs']:\n",
    "                    final_text += paragraph['paragraphHeader']['text'] + ' '\n",
    "                    final_text += paragraph['paragraphBody']['text'] + ' '\n",
    "                path = name + '_' + str(index) + '.txt'\n",
    "\n",
    "                with open(root_path + '/' + path, 'w', encoding=\"utf-8\") as f:\n",
    "                    f.write(final_text)\n",
    "        except Exception as e:\n",
    "            print(name)\n",
    "            print(e.with_traceback())"
   ],
   "metadata": {
    "collapsed": false
   }
  },
  {
   "cell_type": "code",
   "execution_count": 26,
   "outputs": [],
   "source": [
    "java_parser.kill_java_process()"
   ],
   "metadata": {
    "collapsed": false
   }
  }
 ],
 "metadata": {
  "kernelspec": {
   "display_name": "Python 3",
   "language": "python",
   "name": "python3"
  },
  "language_info": {
   "codemirror_mode": {
    "name": "ipython",
    "version": 2
   },
   "file_extension": ".py",
   "mimetype": "text/x-python",
   "name": "python",
   "nbconvert_exporter": "python",
   "pygments_lexer": "ipython2",
   "version": "2.7.6"
  }
 },
 "nbformat": 4,
 "nbformat_minor": 0
}
